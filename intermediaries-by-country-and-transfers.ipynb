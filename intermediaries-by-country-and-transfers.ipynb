{
 "cells": [
  {
   "cell_type": "markdown",
   "id": "5abfa695-423d-474e-92b5-503ed57faf10",
   "metadata": {},
   "source": [
    "# List Intermediaries by Country and Number of Transfers"
   ]
  },
  {
   "cell_type": "code",
   "execution_count": 1,
   "id": "4eafd522-7352-44c4-9290-815e142cdd59",
   "metadata": {},
   "outputs": [],
   "source": [
    "import json, pandas as pd, requests, random"
   ]
  },
  {
   "cell_type": "code",
   "execution_count": 2,
   "id": "367ac98e-4c42-488e-a0ea-808d8103aa9a",
   "metadata": {},
   "outputs": [],
   "source": [
    "raw_transfers = requests.get(\"https://tsosi.org/api/transfers/all?format=json\").json()"
   ]
  },
  {
   "cell_type": "code",
   "execution_count": 3,
   "id": "2b6a91cd-1037-4ed9-8420-e0f38b4dbcb9",
   "metadata": {},
   "outputs": [],
   "source": [
    "## transfrom to df\n",
    "df_transfers = pd.json_normalize(raw_transfers)"
   ]
  },
  {
   "cell_type": "code",
   "execution_count": 4,
   "id": "ffdfd625-db56-44a8-90b9-23b5bec163ac",
   "metadata": {},
   "outputs": [
    {
     "data": {
      "text/plain": [
       "Index(['id', 'emitter_id', 'recipient_id', 'agent_id', 'amount', 'currency',\n",
       "       'description', 'date_clc.value', 'date_clc.precision',\n",
       "       'amounts_clc.CAD', 'amounts_clc.DKK', 'amounts_clc.EUR',\n",
       "       'amounts_clc.GBP', 'amounts_clc.USD', 'amounts_clc'],\n",
       "      dtype='object')"
      ]
     },
     "execution_count": 4,
     "metadata": {},
     "output_type": "execute_result"
    }
   ],
   "source": [
    "df_transfers.columns"
   ]
  },
  {
   "cell_type": "code",
   "execution_count": 5,
   "id": "dcfb4b22-b3fa-44dc-994c-c625f90205b1",
   "metadata": {},
   "outputs": [],
   "source": [
    "# create a df for only intermediaries with the columns we need\n",
    "df_intermed = df_transfers[ df_transfers[\"agent_id\"].notna()][[\"emitter_id\", \"recipient_id\", \"agent_id\", \"date_clc.value\", \"amounts_clc.EUR\"]]"
   ]
  },
  {
   "cell_type": "code",
   "execution_count": 6,
   "id": "48db4cf6-34fd-46df-86e6-51e3513bc803",
   "metadata": {},
   "outputs": [
    {
     "data": {
      "text/html": [
       "<div>\n",
       "<style scoped>\n",
       "    .dataframe tbody tr th:only-of-type {\n",
       "        vertical-align: middle;\n",
       "    }\n",
       "\n",
       "    .dataframe tbody tr th {\n",
       "        vertical-align: top;\n",
       "    }\n",
       "\n",
       "    .dataframe thead th {\n",
       "        text-align: right;\n",
       "    }\n",
       "</style>\n",
       "<table border=\"1\" class=\"dataframe\">\n",
       "  <thead>\n",
       "    <tr style=\"text-align: right;\">\n",
       "      <th></th>\n",
       "      <th>emitter_id</th>\n",
       "      <th>recipient_id</th>\n",
       "      <th>agent_id</th>\n",
       "      <th>date_clc.value</th>\n",
       "      <th>amounts_clc.EUR</th>\n",
       "    </tr>\n",
       "  </thead>\n",
       "  <tbody>\n",
       "    <tr>\n",
       "      <th>2511</th>\n",
       "      <td>1aaa5b12-01fc-4986-96d5-10f98f427ab2</td>\n",
       "      <td>c584df0e-75ea-44ee-a0b9-3a4b5c0706be</td>\n",
       "      <td>ae82f521-d130-4d64-94f5-ac534b8ad569</td>\n",
       "      <td>2024-05-14</td>\n",
       "      <td>NaN</td>\n",
       "    </tr>\n",
       "    <tr>\n",
       "      <th>1984</th>\n",
       "      <td>aad571a4-4bf0-4c9a-a8b0-73f052db3afb</td>\n",
       "      <td>814124ee-2515-4a27-aed9-3175eeddf6cc</td>\n",
       "      <td>30469b19-40ab-403b-a7c9-59d1301ca154</td>\n",
       "      <td>2024-01-01</td>\n",
       "      <td>NaN</td>\n",
       "    </tr>\n",
       "  </tbody>\n",
       "</table>\n",
       "</div>"
      ],
      "text/plain": [
       "                                emitter_id  \\\n",
       "2511  1aaa5b12-01fc-4986-96d5-10f98f427ab2   \n",
       "1984  aad571a4-4bf0-4c9a-a8b0-73f052db3afb   \n",
       "\n",
       "                              recipient_id  \\\n",
       "2511  c584df0e-75ea-44ee-a0b9-3a4b5c0706be   \n",
       "1984  814124ee-2515-4a27-aed9-3175eeddf6cc   \n",
       "\n",
       "                                  agent_id date_clc.value  amounts_clc.EUR  \n",
       "2511  ae82f521-d130-4d64-94f5-ac534b8ad569     2024-05-14              NaN  \n",
       "1984  30469b19-40ab-403b-a7c9-59d1301ca154     2024-01-01              NaN  "
      ]
     },
     "execution_count": 6,
     "metadata": {},
     "output_type": "execute_result"
    }
   ],
   "source": [
    "df_intermed.sample(2)"
   ]
  },
  {
   "cell_type": "code",
   "execution_count": 7,
   "id": "dba2c611-2f78-4ad9-9db4-162dc3fb99ff",
   "metadata": {},
   "outputs": [],
   "source": [
    "# add a column with the sum of transfers made by one intermediary (when we have the amount)\n",
    "df_intermed['total_sum'] = df_intermed.groupby('agent_id')['amounts_clc.EUR'].transform('sum')"
   ]
  },
  {
   "cell_type": "code",
   "execution_count": 8,
   "id": "f83bcd53-43ea-43c7-b16e-ab7cdf2ad3df",
   "metadata": {},
   "outputs": [
    {
     "data": {
      "text/html": [
       "<div>\n",
       "<style scoped>\n",
       "    .dataframe tbody tr th:only-of-type {\n",
       "        vertical-align: middle;\n",
       "    }\n",
       "\n",
       "    .dataframe tbody tr th {\n",
       "        vertical-align: top;\n",
       "    }\n",
       "\n",
       "    .dataframe thead th {\n",
       "        text-align: right;\n",
       "    }\n",
       "</style>\n",
       "<table border=\"1\" class=\"dataframe\">\n",
       "  <thead>\n",
       "    <tr style=\"text-align: right;\">\n",
       "      <th></th>\n",
       "      <th>emitter_id</th>\n",
       "      <th>recipient_id</th>\n",
       "      <th>agent_id</th>\n",
       "      <th>date_clc.value</th>\n",
       "      <th>amounts_clc.EUR</th>\n",
       "      <th>total_sum</th>\n",
       "    </tr>\n",
       "  </thead>\n",
       "  <tbody>\n",
       "    <tr>\n",
       "      <th>2599</th>\n",
       "      <td>43bce5cd-f5c2-4adf-8a2b-30fe18f64c36</td>\n",
       "      <td>814124ee-2515-4a27-aed9-3175eeddf6cc</td>\n",
       "      <td>63455bff-a695-4d4e-b9fd-ac4f100d4de8</td>\n",
       "      <td>2024-07-01</td>\n",
       "      <td>NaN</td>\n",
       "      <td>0.0</td>\n",
       "    </tr>\n",
       "  </tbody>\n",
       "</table>\n",
       "</div>"
      ],
      "text/plain": [
       "                                emitter_id  \\\n",
       "2599  43bce5cd-f5c2-4adf-8a2b-30fe18f64c36   \n",
       "\n",
       "                              recipient_id  \\\n",
       "2599  814124ee-2515-4a27-aed9-3175eeddf6cc   \n",
       "\n",
       "                                  agent_id date_clc.value  amounts_clc.EUR  \\\n",
       "2599  63455bff-a695-4d4e-b9fd-ac4f100d4de8     2024-07-01              NaN   \n",
       "\n",
       "      total_sum  \n",
       "2599        0.0  "
      ]
     },
     "execution_count": 8,
     "metadata": {},
     "output_type": "execute_result"
    }
   ],
   "source": [
    "df_intermed.sample(1)"
   ]
  },
  {
   "cell_type": "code",
   "execution_count": 9,
   "id": "18fcff01-25d6-4205-ad19-2d23e9cc4f41",
   "metadata": {},
   "outputs": [],
   "source": [
    "# group by intermediary and add columns for number of emitters involved, number of transfers, and the last column of the sum of the transfers\n",
    "df_intermed_meta = df_intermed.groupby('agent_id').agg(\n",
    "        nb_emitters=('emitter_id', 'nunique'),\n",
    "        nb_transfers=('date_clc.value', 'count'),\n",
    "        transfer_sum=('total_sum', 'last')\n",
    ").reset_index()"
   ]
  },
  {
   "cell_type": "code",
   "execution_count": 10,
   "id": "87c185f8-18af-40ce-8f9d-7df8d5857d0c",
   "metadata": {},
   "outputs": [
    {
     "data": {
      "text/plain": [
       "Index(['agent_id', 'nb_emitters', 'nb_transfers', 'transfer_sum'], dtype='object')"
      ]
     },
     "execution_count": 10,
     "metadata": {},
     "output_type": "execute_result"
    }
   ],
   "source": [
    "df_intermed_meta.columns"
   ]
  },
  {
   "cell_type": "code",
   "execution_count": 11,
   "id": "f7e0c803-2861-4a5e-8e7b-6dcd7e1d3d16",
   "metadata": {},
   "outputs": [],
   "source": [
    "## get a table with all entities"
   ]
  },
  {
   "cell_type": "code",
   "execution_count": 12,
   "id": "03cec989-3cd0-46d0-b2ae-13de8bd8963b",
   "metadata": {},
   "outputs": [
    {
     "data": {
      "text/plain": [
       "Index(['id', 'name', 'short_name', 'country', 'identifiers', 'coordinates',\n",
       "       'logo', 'icon', 'is_recipient', 'is_partner'],\n",
       "      dtype='object')"
      ]
     },
     "execution_count": 12,
     "metadata": {},
     "output_type": "execute_result"
    }
   ],
   "source": [
    "raw_entities = requests.get(\"https://tsosi.org/api/entities/all?format=json\").json()\n",
    "df_entities = pd.json_normalize(raw_entities)\n",
    "df_entities.columns"
   ]
  },
  {
   "cell_type": "code",
   "execution_count": 13,
   "id": "64c818e0-1cb2-4624-9d89-f6e5285a24c7",
   "metadata": {},
   "outputs": [],
   "source": [
    "df_results = df_intermed_meta.merge(\n",
    "    df_entities[['id', 'name', 'country', 'identifiers']], left_on='agent_id', right_on='id', how = 'left')"
   ]
  },
  {
   "cell_type": "code",
   "execution_count": 14,
   "id": "75710fae-46a2-4e49-915e-c063ed88444a",
   "metadata": {},
   "outputs": [],
   "source": [
    "df_results = df_results[['name', 'country', 'nb_emitters', 'nb_transfers', 'transfer_sum', 'identifiers']].sort_values(by=[\"country\"])"
   ]
  },
  {
   "cell_type": "code",
   "execution_count": 15,
   "id": "a5a42a09-8e73-46c9-b797-6c65cb6eef32",
   "metadata": {},
   "outputs": [
    {
     "data": {
      "text/html": [
       "<div>\n",
       "<style scoped>\n",
       "    .dataframe tbody tr th:only-of-type {\n",
       "        vertical-align: middle;\n",
       "    }\n",
       "\n",
       "    .dataframe tbody tr th {\n",
       "        vertical-align: top;\n",
       "    }\n",
       "\n",
       "    .dataframe thead th {\n",
       "        text-align: right;\n",
       "    }\n",
       "</style>\n",
       "<table border=\"1\" class=\"dataframe\">\n",
       "  <thead>\n",
       "    <tr style=\"text-align: right;\">\n",
       "      <th></th>\n",
       "      <th>name</th>\n",
       "      <th>country</th>\n",
       "      <th>nb_emitters</th>\n",
       "      <th>nb_transfers</th>\n",
       "      <th>transfer_sum</th>\n",
       "      <th>identifiers</th>\n",
       "    </tr>\n",
       "  </thead>\n",
       "  <tbody>\n",
       "    <tr>\n",
       "      <th>38</th>\n",
       "      <td>Council of Australasian University Librarians</td>\n",
       "      <td>AU</td>\n",
       "      <td>16</td>\n",
       "      <td>23</td>\n",
       "      <td>0.0</td>\n",
       "      <td>[{'registry': 'ror', 'value': '00aa7w613'}, {'...</td>\n",
       "    </tr>\n",
       "    <tr>\n",
       "      <th>34</th>\n",
       "      <td>Bibliothèque Interuniversitaire de la Communau...</td>\n",
       "      <td>BE</td>\n",
       "      <td>4</td>\n",
       "      <td>8</td>\n",
       "      <td>0.0</td>\n",
       "      <td>[{'registry': 'wikidata', 'value': 'Q76612327'}]</td>\n",
       "    </tr>\n",
       "    <tr>\n",
       "      <th>17</th>\n",
       "      <td>Elektron VZW</td>\n",
       "      <td>BE</td>\n",
       "      <td>9</td>\n",
       "      <td>25</td>\n",
       "      <td>0.0</td>\n",
       "      <td>[{'registry': 'wikidata', 'value': 'Q27991319'}]</td>\n",
       "    </tr>\n",
       "    <tr>\n",
       "      <th>0</th>\n",
       "      <td>Ontario Council of University Libraries</td>\n",
       "      <td>CA</td>\n",
       "      <td>13</td>\n",
       "      <td>22</td>\n",
       "      <td>0.0</td>\n",
       "      <td>[{'registry': 'wikidata', 'value': 'Q30289390'...</td>\n",
       "    </tr>\n",
       "    <tr>\n",
       "      <th>30</th>\n",
       "      <td>Council of Atlantic University Libraries</td>\n",
       "      <td>CA</td>\n",
       "      <td>7</td>\n",
       "      <td>11</td>\n",
       "      <td>0.0</td>\n",
       "      <td>[{'registry': 'wikidata', 'value': 'Q76612380'}]</td>\n",
       "    </tr>\n",
       "  </tbody>\n",
       "</table>\n",
       "</div>"
      ],
      "text/plain": [
       "                                                 name country  nb_emitters  \\\n",
       "38      Council of Australasian University Librarians      AU           16   \n",
       "34  Bibliothèque Interuniversitaire de la Communau...      BE            4   \n",
       "17                                       Elektron VZW      BE            9   \n",
       "0             Ontario Council of University Libraries      CA           13   \n",
       "30           Council of Atlantic University Libraries      CA            7   \n",
       "\n",
       "    nb_transfers  transfer_sum  \\\n",
       "38            23           0.0   \n",
       "34             8           0.0   \n",
       "17            25           0.0   \n",
       "0             22           0.0   \n",
       "30            11           0.0   \n",
       "\n",
       "                                          identifiers  \n",
       "38  [{'registry': 'ror', 'value': '00aa7w613'}, {'...  \n",
       "34   [{'registry': 'wikidata', 'value': 'Q76612327'}]  \n",
       "17   [{'registry': 'wikidata', 'value': 'Q27991319'}]  \n",
       "0   [{'registry': 'wikidata', 'value': 'Q30289390'...  \n",
       "30   [{'registry': 'wikidata', 'value': 'Q76612380'}]  "
      ]
     },
     "execution_count": 15,
     "metadata": {},
     "output_type": "execute_result"
    }
   ],
   "source": [
    "df_results.head()"
   ]
  },
  {
   "cell_type": "code",
   "execution_count": 16,
   "id": "b0ba0809-fbe6-4c71-98c5-12c0d645b0d6",
   "metadata": {},
   "outputs": [],
   "source": [
    "df_results.to_csv(\"2025-05-25--intermediaries-metadata.csv\", index=False)"
   ]
  },
  {
   "cell_type": "code",
   "execution_count": null,
   "id": "8aaf7b81-07f6-4781-81df-4401b74f8f08",
   "metadata": {},
   "outputs": [],
   "source": []
  }
 ],
 "metadata": {
  "kernelspec": {
   "display_name": "Python 3 (ipykernel)",
   "language": "python",
   "name": "python3"
  },
  "language_info": {
   "codemirror_mode": {
    "name": "ipython",
    "version": 3
   },
   "file_extension": ".py",
   "mimetype": "text/x-python",
   "name": "python",
   "nbconvert_exporter": "python",
   "pygments_lexer": "ipython3",
   "version": "3.13.2"
  }
 },
 "nbformat": 4,
 "nbformat_minor": 5
}
