{
 "cells": [
  {
   "cell_type": "markdown",
   "id": "1a528752-51f2-4273-ae34-9d1f0945fc21",
   "metadata": {},
   "source": [
    "# TSOSI: Coverage of ROR and Wikidata identifiers for supporters"
   ]
  },
  {
   "cell_type": "code",
   "execution_count": 1,
   "id": "ee9ea106-f3fd-4f39-98d6-f5fdb6c4ac7c",
   "metadata": {},
   "outputs": [],
   "source": [
    "import pandas as pd, requests, random"
   ]
  },
  {
   "cell_type": "code",
   "execution_count": 2,
   "id": "e3678ade-4386-46d5-b602-3904d77b2a00",
   "metadata": {},
   "outputs": [],
   "source": [
    "raw_json = requests.get(\"https://tsosi.org/api/entities/all?format=json\").json()"
   ]
  },
  {
   "cell_type": "code",
   "execution_count": 3,
   "id": "c6d90bc3-7a44-4b41-baa2-735f8245fe3f",
   "metadata": {},
   "outputs": [
    {
     "data": {
      "text/plain": [
       "1036"
      ]
     },
     "execution_count": 3,
     "metadata": {},
     "output_type": "execute_result"
    }
   ],
   "source": [
    "## nb of items within the json\n",
    "len(raw_json)"
   ]
  },
  {
   "cell_type": "code",
   "execution_count": 4,
   "id": "99810666-0ba1-4f1a-853f-f5aff239558f",
   "metadata": {},
   "outputs": [
    {
     "data": {
      "text/plain": [
       "{'id': 'bfd9b93d-ff14-4034-8d4a-099160fb9585',\n",
       " 'name': 'University of Mons',\n",
       " 'short_name': None,\n",
       " 'country': 'BE',\n",
       " 'identifiers': [{'registry': 'ror', 'value': '02qnnz951'},\n",
       "  {'registry': 'wikidata', 'value': 'Q1742161'}],\n",
       " 'coordinates': 'POINT(3.95229 50.45413)',\n",
       " 'logo': 'https://tsosi.org/media/bfd9b93d-ff14-4034-8d4a-099160fb9585/logo/Universit%C3%A9_de_Mons_logo.svg',\n",
       " 'icon': None,\n",
       " 'is_recipient': False,\n",
       " 'is_partner': False}"
      ]
     },
     "execution_count": 4,
     "metadata": {},
     "output_type": "execute_result"
    }
   ],
   "source": [
    "random.choice(raw_json)"
   ]
  },
  {
   "cell_type": "code",
   "execution_count": 5,
   "id": "f2e94260-ec71-4eb8-adb1-73f751b8cacf",
   "metadata": {},
   "outputs": [],
   "source": [
    "## flatten all entities\n",
    "for item in raw_json : \n",
    "    if item.get(\"identifiers\") :\n",
    "        for ids in item[\"identifiers\"] : \n",
    "            if ids[\"registry\"] == \"ror\" : \n",
    "                item[\"ror_id\"] = ids[\"value\"]\n",
    "            if ids[\"registry\"] == \"wikidata\" : \n",
    "                item[\"wiki_id\"] = ids[\"value\"]\n",
    "                "
   ]
  },
  {
   "cell_type": "code",
   "execution_count": 6,
   "id": "8a34d5ac-349c-4b14-9add-8c396e5d5f27",
   "metadata": {},
   "outputs": [
    {
     "data": {
      "text/plain": [
       "{'id': '48586524-a003-4151-85a5-17c6e860f744',\n",
       " 'name': 'Lib4RI - Library for the Research Institutes within the ETH Domain: Eawag, Empa, PSI & WSL',\n",
       " 'short_name': None,\n",
       " 'country': 'CH',\n",
       " 'identifiers': [{'registry': 'ror', 'value': '021f7p178'},\n",
       "  {'registry': 'wikidata', 'value': 'Q1278450'}],\n",
       " 'coordinates': 'Point(8.60967 47.4048)',\n",
       " 'logo': 'https://tsosi.org/media/48586524-a003-4151-85a5-17c6e860f744/logo/Lib4RI_logo_110x228.png',\n",
       " 'icon': None,\n",
       " 'is_recipient': False,\n",
       " 'is_partner': False,\n",
       " 'ror_id': '021f7p178',\n",
       " 'wiki_id': 'Q1278450'}"
      ]
     },
     "execution_count": 6,
     "metadata": {},
     "output_type": "execute_result"
    }
   ],
   "source": [
    "random.choice(raw_json)"
   ]
  },
  {
   "cell_type": "code",
   "execution_count": 7,
   "id": "8949d526-f1fb-4f45-b677-d534377931a8",
   "metadata": {},
   "outputs": [
    {
     "data": {
      "text/html": [
       "<div>\n",
       "<style scoped>\n",
       "    .dataframe tbody tr th:only-of-type {\n",
       "        vertical-align: middle;\n",
       "    }\n",
       "\n",
       "    .dataframe tbody tr th {\n",
       "        vertical-align: top;\n",
       "    }\n",
       "\n",
       "    .dataframe thead th {\n",
       "        text-align: right;\n",
       "    }\n",
       "</style>\n",
       "<table border=\"1\" class=\"dataframe\">\n",
       "  <thead>\n",
       "    <tr style=\"text-align: right;\">\n",
       "      <th></th>\n",
       "      <th>name</th>\n",
       "      <th>country</th>\n",
       "      <th>coordinates</th>\n",
       "      <th>logo</th>\n",
       "      <th>is_recipient</th>\n",
       "      <th>is_partner</th>\n",
       "      <th>ror_id</th>\n",
       "      <th>wiki_id</th>\n",
       "    </tr>\n",
       "  </thead>\n",
       "  <tbody>\n",
       "    <tr>\n",
       "      <th>809</th>\n",
       "      <td>University of California, San Diego</td>\n",
       "      <td>US</td>\n",
       "      <td>Point(-117.238055555 32.881111111)</td>\n",
       "      <td>https://tsosi.org/media/c705a703-13e8-4aa6-88b...</td>\n",
       "      <td>False</td>\n",
       "      <td>False</td>\n",
       "      <td>0168r3w48</td>\n",
       "      <td>Q622664</td>\n",
       "    </tr>\n",
       "    <tr>\n",
       "      <th>457</th>\n",
       "      <td>Newcastle University</td>\n",
       "      <td>GB</td>\n",
       "      <td>Point(-1.615 54.978)</td>\n",
       "      <td>None</td>\n",
       "      <td>False</td>\n",
       "      <td>False</td>\n",
       "      <td>01kj2bm70</td>\n",
       "      <td>Q837164</td>\n",
       "    </tr>\n",
       "    <tr>\n",
       "      <th>391</th>\n",
       "      <td>Library and Information Centre of the Hungaria...</td>\n",
       "      <td>HU</td>\n",
       "      <td>POINT(19.04045 47.49835)</td>\n",
       "      <td>None</td>\n",
       "      <td>False</td>\n",
       "      <td>False</td>\n",
       "      <td>04ws47v52</td>\n",
       "      <td>NaN</td>\n",
       "    </tr>\n",
       "  </tbody>\n",
       "</table>\n",
       "</div>"
      ],
      "text/plain": [
       "                                                  name country  \\\n",
       "809                University of California, San Diego      US   \n",
       "457                               Newcastle University      GB   \n",
       "391  Library and Information Centre of the Hungaria...      HU   \n",
       "\n",
       "                            coordinates  \\\n",
       "809  Point(-117.238055555 32.881111111)   \n",
       "457                Point(-1.615 54.978)   \n",
       "391            POINT(19.04045 47.49835)   \n",
       "\n",
       "                                                  logo  is_recipient  \\\n",
       "809  https://tsosi.org/media/c705a703-13e8-4aa6-88b...         False   \n",
       "457                                               None         False   \n",
       "391                                               None         False   \n",
       "\n",
       "     is_partner     ror_id  wiki_id  \n",
       "809       False  0168r3w48  Q622664  \n",
       "457       False  01kj2bm70  Q837164  \n",
       "391       False  04ws47v52      NaN  "
      ]
     },
     "execution_count": 7,
     "metadata": {},
     "output_type": "execute_result"
    }
   ],
   "source": [
    "df_raw  = pd.json_normalize(raw_json)\n",
    "# remove cell where is_receipient = True\n",
    "df = df_raw[ df_raw[\"is_recipient\"] == False].copy()\n",
    "# remove columns related to infra\n",
    "df.drop(columns=['id', \"icon\", \"short_name\", \"identifiers\"], inplace=True)\n",
    "df.sample(3)"
   ]
  },
  {
   "cell_type": "code",
   "execution_count": 8,
   "id": "fd16b3e4-3ee9-4ddf-92fb-f78f746e59d6",
   "metadata": {},
   "outputs": [
    {
     "name": "stdout",
     "output_type": "stream",
     "text": [
      "nb entities without ror & wikidata id 52 \n"
     ]
    }
   ],
   "source": [
    "## add a columns to know if entity has no id\n",
    "df[\"has_id\"] = (df[\"ror_id\"].notna() | df[\"wiki_id\"].notna())\n",
    "print(f\"nb entities without ror & wikidata id {len(df[ df['has_id'] ==False])} \")"
   ]
  },
  {
   "cell_type": "markdown",
   "id": "96d2c199-d1e5-4c22-9974-a70824656612",
   "metadata": {},
   "source": [
    "## Produce graph coverage of ROR and wikidata identifiers"
   ]
  },
  {
   "cell_type": "code",
   "execution_count": 9,
   "id": "ccade6fa-3f4a-465a-af7f-0d1ea353b871",
   "metadata": {},
   "outputs": [],
   "source": [
    "entity_stats = {\n",
    "    \"Wikidata id\" : len(df[ df[\"wiki_id\"].notna()]),\n",
    "    \"ROR id\" : len(df[ df[\"ror_id\"].notna()] ),\n",
    "    \"ROR\\nand\\nWikidata id\" : len( df[ df[\"ror_id\"].notna() & df[\"wiki_id\"].notna()] ),\n",
    "    \"with logo\" : len(df[ df[\"logo\"].notna()] ),\n",
    "   # \"Without logo\\n&\\nwith wikidata\" : len( df[ df[\"logo\"].isna() & df[\"wiki_id\"].notna()] ),\n",
    "    \"Without ids\" : len( df[ df[\"has_id\"] == False] )\n",
    "}"
   ]
  },
  {
   "cell_type": "code",
   "execution_count": 10,
   "id": "cb726ff4-3e13-4697-90a4-4b76ae732d7f",
   "metadata": {},
   "outputs": [],
   "source": [
    "dfstat = pd.DataFrame.from_dict(entity_stats, orient='index', columns=['count']).reset_index()"
   ]
  },
  {
   "cell_type": "code",
   "execution_count": 11,
   "id": "4837f5ad-4a70-4d3f-9e21-9ec64a388ec2",
   "metadata": {},
   "outputs": [],
   "source": [
    "import matplotlib.pyplot as plt, datetime"
   ]
  },
  {
   "cell_type": "code",
   "execution_count": 12,
   "id": "4dc83e7d-5619-4c64-87a3-a2a8c36a509b",
   "metadata": {},
   "outputs": [],
   "source": [
    "## get metadata\n",
    "date_raw = datetime.date.today()\n",
    "date_txt = date_raw.strftime(\"%Y-%m-%d\")\n",
    "nb_supporters = len(df)"
   ]
  },
  {
   "cell_type": "code",
   "execution_count": 13,
   "id": "6699d53d-d7fd-4eba-8333-81b9279b79d2",
   "metadata": {},
   "outputs": [
    {
     "data": {
      "image/png": "[encoded data removed]",
      "text/plain": [
       "<Figure size 1000x600 with 1 Axes>"
      ]
     },
     "metadata": {},
     "output_type": "display_data"
    }
   ],
   "source": [
    "plt.figure(figsize=(10, 6))\n",
    "plt.bar(dfstat['index'], dfstat['count'])\n",
    "\n",
    "# Add title and labels\n",
    "plt.title('TSOSI: Coverage of ROR and Wikidata identifiers for supporters', fontsize = 16, y = 1.1)\n",
    "plt.suptitle(f\"number of supporters: {nb_supporters}\\n{date_txt}\", fontsize=10, y=0.84)\n",
    "\n",
    "# Despine the plot\n",
    "ax = plt.gca()  # Get the current axes\n",
    "for spine in ax.spines.values():\n",
    "    spine.set_visible(False)  # Hide all spines\n",
    "ax.spines['bottom'].set_visible(True)  # Show bottom spine\n",
    "\n",
    "# Remove left ticks and labels\n",
    "ax.yaxis.set_ticks([])  # Remove y-axis ticks\n",
    "ax.yaxis.set_ticklabels([])  # Remove y-axis tick labels\n",
    "\n",
    "# Add text labels inside the bars\n",
    "for bar in plt.bar(dfstat['index'], dfstat['count'], color='#2c3e50'):\n",
    "    yval = bar.get_height()  # Get the height of the bar\n",
    "    percentage = (yval / nb_supporters) * 100 \n",
    "    plt.text(bar.get_x() + bar.get_width() / 2, yval -50,  int(yval), \n",
    "             ha='center', va='bottom', fontsize = 8, color='white')  # Add text at the center of the bar*\n",
    "    plt.text(bar.get_x() + bar.get_width() / 2, yval + 40, f'{percentage:.0f}%', \n",
    "             ha='center', va='top', color='black')  \n",
    "\n",
    "\n",
    "plt.xticks(rotation=20)  # Rotate x-axis labels for better readability\n",
    "plt.tight_layout()\n",
    "# plt.savefig(f\"{date_txt}-tsosi-supporters-id-coverage.png\")"
   ]
  },
  {
   "cell_type": "code",
   "execution_count": null,
   "id": "c1eca10e-bd83-4adb-a530-77e04c128b20",
   "metadata": {},
   "outputs": [],
   "source": []
  }
 ],
 "metadata": {
  "kernelspec": {
   "display_name": "Python 3 (ipykernel)",
   "language": "python",
   "name": "python3"
  },
  "language_info": {
   "codemirror_mode": {
    "name": "ipython",
    "version": 3
   },
   "file_extension": ".py",
   "mimetype": "text/x-python",
   "name": "python",
   "nbconvert_exporter": "python",
   "pygments_lexer": "ipython3",
   "version": "3.13.2"
  }
 },
 "nbformat": 4,
 "nbformat_minor": 5
}
